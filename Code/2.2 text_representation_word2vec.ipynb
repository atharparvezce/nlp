{
  "nbformat": 4,
  "nbformat_minor": 0,
  "metadata": {
    "colab": {
      "provenance": []
    },
    "kernelspec": {
      "name": "python3",
      "display_name": "Python 3"
    },
    "language_info": {
      "name": "python"
    }
  },
  "cells": [
    {
      "cell_type": "code",
      "execution_count": null,
      "metadata": {
        "colab": {
          "base_uri": "https://localhost:8080/"
        },
        "id": "yDMbIp2Qc8GG",
        "outputId": "be65cc4f-2b3c-4b08-fe36-ce437cc5e0c6"
      },
      "outputs": [
        {
          "output_type": "stream",
          "name": "stdout",
          "text": [
            "Requirement already satisfied: gensim in /usr/local/lib/python3.12/dist-packages (4.3.3)\n",
            "Requirement already satisfied: numpy<2.0,>=1.18.5 in /usr/local/lib/python3.12/dist-packages (from gensim) (1.26.4)\n",
            "Requirement already satisfied: scipy<1.14.0,>=1.7.0 in /usr/local/lib/python3.12/dist-packages (from gensim) (1.13.1)\n",
            "Requirement already satisfied: smart-open>=1.8.1 in /usr/local/lib/python3.12/dist-packages (from gensim) (7.3.0.post1)\n",
            "Requirement already satisfied: wrapt in /usr/local/lib/python3.12/dist-packages (from smart-open>=1.8.1->gensim) (1.17.3)\n",
            "Collecting wget\n",
            "  Downloading wget-3.2.zip (10 kB)\n",
            "  Preparing metadata (setup.py) ... \u001b[?25l\u001b[?25hdone\n",
            "Building wheels for collected packages: wget\n",
            "  Building wheel for wget (setup.py) ... \u001b[?25l\u001b[?25hdone\n",
            "  Created wheel for wget: filename=wget-3.2-py3-none-any.whl size=9655 sha256=667a6cbc186aba7aa814f96964e426ba43f4c5a80c21ae2fc3cd6ee37840f17c\n",
            "  Stored in directory: /root/.cache/pip/wheels/01/46/3b/e29ffbe4ebe614ff224bad40fc6a5773a67a163251585a13a9\n",
            "Successfully built wget\n",
            "Installing collected packages: wget\n",
            "Successfully installed wget-3.2\n"
          ]
        }
      ],
      "source": [
        "!pip install gensim\n",
        "!pip install wget"
      ]
    },
    {
      "cell_type": "code",
      "source": [
        "import gensim\n",
        "from gensim.models import Word2Vec, KeyedVectors"
      ],
      "metadata": {
        "id": "KrXB4uUxhdmp"
      },
      "execution_count": null,
      "outputs": []
    },
    {
      "cell_type": "code",
      "source": [
        "!wget -c \"https://github.com/mmihaltz/word2vec-GoogleNews-vectors/raw/master/GoogleNews-vectors-negative300.bin.gz\""
      ],
      "metadata": {
        "colab": {
          "base_uri": "https://localhost:8080/"
        },
        "id": "rN7kJz9SiT2B",
        "outputId": "b93bb281-71dc-4c28-990b-c9d3ae34ff20"
      },
      "execution_count": null,
      "outputs": [
        {
          "output_type": "stream",
          "name": "stdout",
          "text": [
            "--2025-09-06 10:21:18--  https://github.com/mmihaltz/word2vec-GoogleNews-vectors/raw/master/GoogleNews-vectors-negative300.bin.gz\n",
            "Resolving github.com (github.com)... 140.82.114.4\n",
            "Connecting to github.com (github.com)|140.82.114.4|:443... connected.\n",
            "HTTP request sent, awaiting response... 302 Found\n",
            "Location: https://media.githubusercontent.com/media/mmihaltz/word2vec-GoogleNews-vectors/master/GoogleNews-vectors-negative300.bin.gz [following]\n",
            "--2025-09-06 10:21:18--  https://media.githubusercontent.com/media/mmihaltz/word2vec-GoogleNews-vectors/master/GoogleNews-vectors-negative300.bin.gz\n",
            "Resolving media.githubusercontent.com (media.githubusercontent.com)... 185.199.108.133, 185.199.109.133, 185.199.110.133, ...\n",
            "Connecting to media.githubusercontent.com (media.githubusercontent.com)|185.199.108.133|:443... connected.\n",
            "HTTP request sent, awaiting response... 200 OK\n",
            "Length: 1647046227 (1.5G) [application/octet-stream]\n",
            "Saving to: ‘GoogleNews-vectors-negative300.bin.gz’\n",
            "\n",
            "GoogleNews-vectors- 100%[===================>]   1.53G  66.2MB/s    in 23s     \n",
            "\n",
            "2025-09-06 10:21:42 (67.0 MB/s) - ‘GoogleNews-vectors-negative300.bin.gz’ saved [1647046227/1647046227]\n",
            "\n"
          ]
        }
      ]
    },
    {
      "cell_type": "code",
      "source": [
        "import gensim.downloader as api\n",
        "\n",
        "# This will download automatically if not already present\n",
        "model = api.load(\"word2vec-google-news-300\")\n"
      ],
      "metadata": {
        "colab": {
          "base_uri": "https://localhost:8080/"
        },
        "id": "FzaD6b0Aii35",
        "outputId": "c340a439-fd9f-43b9-d102-93a53960ef83"
      },
      "execution_count": null,
      "outputs": [
        {
          "output_type": "stream",
          "name": "stdout",
          "text": [
            "[==================================================] 100.0% 1662.8/1662.8MB downloaded\n"
          ]
        }
      ]
    },
    {
      "cell_type": "code",
      "source": [
        "model['men']"
      ],
      "metadata": {
        "colab": {
          "base_uri": "https://localhost:8080/"
        },
        "id": "dIjlFCagi994",
        "outputId": "dc6a876c-7d4f-4475-9c36-53c267a9bd94"
      },
      "execution_count": null,
      "outputs": [
        {
          "output_type": "execute_result",
          "data": {
            "text/plain": [
              "array([-4.78515625e-02,  1.66992188e-01,  7.81250000e-02,  2.10571289e-03,\n",
              "        2.25585938e-01, -2.25585938e-01, -2.09960938e-01, -3.73535156e-02,\n",
              "       -1.85546875e-02,  1.94335938e-01, -3.00292969e-02, -1.77734375e-01,\n",
              "        5.20019531e-02,  1.33789062e-01, -1.13769531e-01,  1.10351562e-01,\n",
              "       -3.27148438e-02,  2.89916992e-03,  9.88769531e-03,  9.27734375e-02,\n",
              "       -2.19726562e-01, -2.47802734e-02, -8.59375000e-02, -2.67578125e-01,\n",
              "       -2.51464844e-02, -2.55859375e-01, -1.61132812e-01,  2.53906250e-01,\n",
              "        5.24902344e-02, -1.00097656e-02,  1.82617188e-01,  7.61718750e-02,\n",
              "       -1.60980225e-03, -3.10058594e-02, -3.32031250e-02,  1.81640625e-01,\n",
              "       -3.88183594e-02, -1.83593750e-01, -8.64257812e-02,  2.20703125e-01,\n",
              "       -7.11059570e-03,  8.60595703e-03,  1.73828125e-01, -9.27734375e-02,\n",
              "        1.25000000e-01, -1.28906250e-01, -4.85839844e-02, -1.21093750e-01,\n",
              "        8.00781250e-02,  1.05957031e-01,  1.42578125e-01,  6.78710938e-02,\n",
              "        6.29882812e-02, -2.60009766e-02,  1.12304688e-01, -3.08593750e-01,\n",
              "       -1.98364258e-03,  2.46582031e-02, -1.57226562e-01,  8.54492188e-02,\n",
              "        3.97949219e-02,  1.41601562e-01, -1.20117188e-01, -2.69775391e-02,\n",
              "        6.78710938e-02, -3.73840332e-03, -5.12695312e-02,  1.33666992e-02,\n",
              "        6.17675781e-02,  2.72216797e-02, -1.22558594e-01,  1.54296875e-01,\n",
              "       -1.24511719e-01,  8.00781250e-02, -4.49218750e-02, -9.47265625e-02,\n",
              "       -1.00585938e-01,  1.16210938e-01, -1.83593750e-01,  4.00390625e-02,\n",
              "        7.91015625e-02, -1.30859375e-01,  5.00488281e-02,  9.22851562e-02,\n",
              "       -2.77343750e-01, -1.40625000e-01, -2.69531250e-01, -7.81250000e-02,\n",
              "        1.41601562e-02,  4.34570312e-02, -2.75390625e-01, -9.76562500e-02,\n",
              "       -1.57470703e-02, -6.29425049e-05,  1.63085938e-01, -1.83593750e-01,\n",
              "       -2.05078125e-02, -1.49414062e-01,  6.05468750e-02, -1.60156250e-01,\n",
              "        6.13403320e-03, -1.65039062e-01,  2.32696533e-04, -1.13281250e-01,\n",
              "        2.29492188e-01, -3.80859375e-02,  1.26953125e-01,  2.45361328e-02,\n",
              "        1.66992188e-01,  3.01513672e-02,  1.60156250e-01,  1.56250000e-01,\n",
              "       -7.12890625e-02,  1.08886719e-01, -2.58789062e-02, -4.41894531e-02,\n",
              "        1.51367188e-01, -1.06933594e-01,  6.29882812e-02,  1.42578125e-01,\n",
              "       -3.06640625e-01,  7.47070312e-02, -3.83300781e-02, -1.48437500e-01,\n",
              "       -2.16796875e-01, -1.51367188e-01,  8.42285156e-03,  2.04101562e-01,\n",
              "        1.58203125e-01,  2.63671875e-01, -1.09863281e-01, -3.41796875e-01,\n",
              "       -1.21093750e-01,  6.59179688e-02, -5.83496094e-02,  8.10546875e-02,\n",
              "        4.93164062e-02,  4.02832031e-02,  3.02124023e-03, -4.99725342e-04,\n",
              "        8.72802734e-03, -1.43554688e-01,  3.20312500e-01,  6.03027344e-02,\n",
              "       -1.53320312e-01,  2.83203125e-01, -7.17773438e-02, -6.86645508e-03,\n",
              "       -9.22851562e-02,  2.72216797e-02,  7.66601562e-02, -6.49414062e-02,\n",
              "       -1.94335938e-01, -2.40234375e-01,  1.59179688e-01,  2.81250000e-01,\n",
              "       -1.71875000e-01, -4.02832031e-02,  1.00097656e-01, -1.30859375e-01,\n",
              "       -5.95703125e-02,  8.48388672e-03,  9.96093750e-02,  3.97949219e-02,\n",
              "        2.11181641e-02, -2.59765625e-01,  1.25000000e-01,  1.61132812e-01,\n",
              "        3.14941406e-02, -4.39453125e-02,  1.38671875e-01, -1.11328125e-01,\n",
              "       -5.20019531e-02, -8.10546875e-02,  7.71484375e-02, -8.39843750e-02,\n",
              "        9.27734375e-02, -4.37011719e-02, -1.87500000e-01, -1.35742188e-01,\n",
              "        2.32421875e-01, -1.72119141e-02, -1.27929688e-01, -1.03027344e-01,\n",
              "       -2.11914062e-01, -8.88671875e-02,  2.53906250e-01,  1.52343750e-01,\n",
              "        1.25000000e-01,  1.80664062e-01,  8.98437500e-02, -6.29882812e-02,\n",
              "        6.78710938e-02,  1.57226562e-01, -5.95703125e-02,  3.26538086e-03,\n",
              "        1.81640625e-01,  8.10546875e-02, -2.77343750e-01, -3.80859375e-02,\n",
              "       -7.56835938e-02, -1.09863281e-01, -1.08398438e-01, -1.46484375e-01,\n",
              "        1.36718750e-02, -1.67236328e-02,  5.51757812e-02, -7.27539062e-02,\n",
              "       -1.69921875e-01, -1.34765625e-01,  6.25610352e-03, -1.11328125e-01,\n",
              "       -2.24609375e-02,  1.18164062e-01, -2.42187500e-01, -1.88476562e-01,\n",
              "       -1.57226562e-01,  9.47265625e-02, -1.84570312e-01,  1.85546875e-01,\n",
              "       -1.05468750e-01, -1.71875000e-01,  2.51953125e-01, -1.49414062e-01,\n",
              "       -1.28936768e-03, -6.78710938e-02,  2.06054688e-01, -9.96093750e-02,\n",
              "       -7.42187500e-02, -1.10351562e-01,  1.42578125e-01, -3.03955078e-02,\n",
              "       -9.03320312e-02,  2.47070312e-01,  1.38854980e-03, -2.24609375e-01,\n",
              "       -1.04003906e-01,  1.06445312e-01,  1.80664062e-01, -7.47680664e-03,\n",
              "        1.25976562e-01, -5.32226562e-02, -2.57812500e-01, -8.49609375e-02,\n",
              "        4.94384766e-03,  5.17578125e-02, -1.02539062e-01,  1.44531250e-01,\n",
              "       -1.47460938e-01,  1.17675781e-01,  2.83203125e-01,  1.45507812e-01,\n",
              "       -8.78906250e-02, -9.32617188e-02,  8.00781250e-02, -1.83105469e-02,\n",
              "        3.46679688e-02, -8.54492188e-02,  1.16210938e-01,  1.50390625e-01,\n",
              "        5.49316406e-02, -2.38281250e-01,  7.27539062e-02, -5.59082031e-02,\n",
              "        5.02929688e-02,  2.13867188e-01, -1.66015625e-01,  3.83300781e-02,\n",
              "        3.11279297e-02,  2.50000000e-01, -7.12890625e-02,  2.42187500e-01,\n",
              "       -1.26953125e-01,  5.95703125e-02,  2.77343750e-01,  3.61328125e-02,\n",
              "       -1.97753906e-02, -2.22656250e-01,  5.76171875e-02,  1.45507812e-01,\n",
              "        9.81445312e-02, -2.75390625e-01,  7.22656250e-02,  1.31835938e-01,\n",
              "       -8.44726562e-02, -8.39843750e-02, -1.08398438e-01, -8.49609375e-02,\n",
              "        1.38671875e-01,  1.14257812e-01,  1.11816406e-01,  1.29882812e-01,\n",
              "       -8.69140625e-02, -2.23632812e-01,  1.13281250e-01, -8.85009766e-03,\n",
              "       -4.83398438e-02, -2.91015625e-01,  4.46777344e-02,  1.61132812e-01],\n",
              "      dtype=float32)"
            ]
          },
          "metadata": {},
          "execution_count": 10
        }
      ]
    },
    {
      "cell_type": "code",
      "source": [
        "model.most_similar('man')"
      ],
      "metadata": {
        "colab": {
          "base_uri": "https://localhost:8080/"
        },
        "id": "XYKQCzEZjLXt",
        "outputId": "e96ac8b9-fe0c-420b-a947-33a4ddc66ffd"
      },
      "execution_count": null,
      "outputs": [
        {
          "output_type": "execute_result",
          "data": {
            "text/plain": [
              "[('woman', 0.7664012908935547),\n",
              " ('boy', 0.6824871301651001),\n",
              " ('teenager', 0.6586930155754089),\n",
              " ('teenage_girl', 0.6147903203964233),\n",
              " ('girl', 0.5921714305877686),\n",
              " ('suspected_purse_snatcher', 0.571636438369751),\n",
              " ('robber', 0.5585119128227234),\n",
              " ('Robbery_suspect', 0.5584409832954407),\n",
              " ('teen_ager', 0.5549196600914001),\n",
              " ('men', 0.5489763021469116)]"
            ]
          },
          "metadata": {},
          "execution_count": 14
        }
      ]
    },
    {
      "cell_type": "code",
      "source": [
        "model.most_similar('cricket')"
      ],
      "metadata": {
        "colab": {
          "base_uri": "https://localhost:8080/"
        },
        "id": "9lzl3oK3jsZY",
        "outputId": "cb394358-307f-49bb-c4ed-e00afa85b61e"
      },
      "execution_count": null,
      "outputs": [
        {
          "output_type": "execute_result",
          "data": {
            "text/plain": [
              "[('cricketing', 0.8372225761413574),\n",
              " ('cricketers', 0.8165745735168457),\n",
              " ('Test_cricket', 0.8094819188117981),\n",
              " ('Twenty##_cricket', 0.8068488240242004),\n",
              " ('Twenty##', 0.7624265551567078),\n",
              " ('Cricket', 0.75413978099823),\n",
              " ('cricketer', 0.7372578382492065),\n",
              " ('twenty##', 0.7316356897354126),\n",
              " ('T##_cricket', 0.7304614186286926),\n",
              " ('West_Indies_cricket', 0.6987985968589783)]"
            ]
          },
          "metadata": {},
          "execution_count": 15
        }
      ]
    },
    {
      "cell_type": "code",
      "source": [
        "model.similarity('man','woman')"
      ],
      "metadata": {
        "colab": {
          "base_uri": "https://localhost:8080/"
        },
        "id": "leC9FqZwj5y9",
        "outputId": "45522b72-f7c5-4435-f878-3fc69cd3f4d5"
      },
      "execution_count": null,
      "outputs": [
        {
          "output_type": "execute_result",
          "data": {
            "text/plain": [
              "0.76640123"
            ]
          },
          "metadata": {},
          "execution_count": 16
        }
      ]
    },
    {
      "cell_type": "code",
      "source": [
        "model.doesnt_match(['pizza','bar','food','good'])"
      ],
      "metadata": {
        "colab": {
          "base_uri": "https://localhost:8080/",
          "height": 35
        },
        "id": "dPd7SGEXkKEk",
        "outputId": "c43e8b9c-acb9-4821-a7a1-8173156f58f1"
      },
      "execution_count": null,
      "outputs": [
        {
          "output_type": "execute_result",
          "data": {
            "text/plain": [
              "'good'"
            ],
            "application/vnd.google.colaboratory.intrinsic+json": {
              "type": "string"
            }
          },
          "metadata": {},
          "execution_count": 17
        }
      ]
    },
    {
      "cell_type": "code",
      "source": [
        "vec = model['king'] - model['man'] + model['woman']\n",
        "model.most_similar(vec)"
      ],
      "metadata": {
        "colab": {
          "base_uri": "https://localhost:8080/"
        },
        "id": "XPxBHgBFkO6n",
        "outputId": "62074f30-6cd5-4aba-fe8f-a5eaa179a44e"
      },
      "execution_count": null,
      "outputs": [
        {
          "output_type": "execute_result",
          "data": {
            "text/plain": [
              "[('king', 0.8449392318725586),\n",
              " ('queen', 0.7300517559051514),\n",
              " ('monarch', 0.645466148853302),\n",
              " ('princess', 0.6156251430511475),\n",
              " ('crown_prince', 0.5818676352500916),\n",
              " ('prince', 0.5777117609977722),\n",
              " ('kings', 0.5613663792610168),\n",
              " ('sultan', 0.5376775860786438),\n",
              " ('Queen_Consort', 0.5344247817993164),\n",
              " ('queens', 0.5289887189865112)]"
            ]
          },
          "metadata": {},
          "execution_count": 18
        }
      ]
    },
    {
      "cell_type": "code",
      "source": [
        "vec = model['INR'] - model['India'] + model['England']\n",
        "model.most_similar(vec)"
      ],
      "metadata": {
        "colab": {
          "base_uri": "https://localhost:8080/"
        },
        "id": "1Nx6zcZpkqdH",
        "outputId": "d9b87e9b-dc7e-4dc6-ad50-ad964abc6eec"
      },
      "execution_count": null,
      "outputs": [
        {
          "output_type": "execute_result",
          "data": {
            "text/plain": [
              "[('INR', 0.6442341208457947),\n",
              " ('GBP', 0.5040826797485352),\n",
              " ('£_##.###m', 0.4540838301181793),\n",
              " ('England', 0.44649264216423035),\n",
              " ('£', 0.43340998888015747),\n",
              " ('Â_£', 0.4307197630405426),\n",
              " ('stg###', 0.4299262464046478),\n",
              " ('£_#.##m', 0.42561301589012146),\n",
              " ('Pounds_Sterling', 0.42512619495391846),\n",
              " ('GBP##', 0.42464491724967957)]"
            ]
          },
          "metadata": {},
          "execution_count": 19
        }
      ]
    }
  ]
}